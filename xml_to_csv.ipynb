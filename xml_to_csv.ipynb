{
 "cells": [
  {
   "cell_type": "code",
   "execution_count": 1,
   "metadata": {},
   "outputs": [],
   "source": [
    "import pandas as pd\n",
    "import numpy as np\n",
    "import os\n",
    "import xml.etree.ElementTree as et"
   ]
  },
  {
   "cell_type": "code",
   "execution_count": 2,
   "metadata": {},
   "outputs": [],
   "source": [
    "IMAGE_PATH = './images/'\n",
    "XML_PATH = './annotations/'"
   ]
  },
  {
   "cell_type": "code",
   "execution_count": 3,
   "metadata": {},
   "outputs": [],
   "source": [
    "def get_data_from_xml(file):\n",
    "    \n",
    "    xtree = et.parse(XML_PATH + file)\n",
    "    xroot = xtree.getroot() \n",
    "       \n",
    "    filename = xroot.find('filename').text\n",
    "    size = xroot.find('size')\n",
    "    width, height = int(size.find('width').text), int(size.find('height').text)\n",
    "    \n",
    "    data = pd.DataFrame()\n",
    "    boxes = []\n",
    "    labels = []\n",
    "    xmins, ymins, xmaxs, ymaxs = [], [], [], []\n",
    "    for elem in xroot.findall('object'):\n",
    "        label = elem.find('name').text\n",
    "        label = 'without_mask' if label == 'mask_weared_incorrect' else label\n",
    "        labels.append(label)\n",
    "        box = elem.find('bndbox')\n",
    "        xmins.append(int(box.find('xmin').text))\n",
    "        ymins.append(int(box.find('ymin').text))\n",
    "        xmaxs.append(int(box.find('xmax').text))\n",
    "        ymaxs.append(int(box.find('ymax').text))\n",
    "        \n",
    "    df = {'xmins': [xmins], 'xmaxs': [xmaxs],\n",
    "          'ymins': [ymins], 'ymaxs': [ymaxs],\n",
    "          'width': [width], 'height': [height],\n",
    "          'filename': [filename], \n",
    "          'labels': [labels]}\n",
    "    data = pd.concat([data, pd.DataFrame(df)], ignore_index=True)\n",
    "            \n",
    "    return data\n",
    "\n",
    "def get_dataframe_from_xmls():\n",
    "    files = list(sorted(os.listdir(XML_PATH)))\n",
    "    data = pd.DataFrame()\n",
    "    for file in files:\n",
    "        data = pd.concat([data, get_data_from_xml(file)], ignore_index=True)\n",
    "    return data"
   ]
  },
  {
   "cell_type": "code",
   "execution_count": 4,
   "metadata": {},
   "outputs": [],
   "source": [
    "data = get_dataframe_from_xmls()\n",
    "data.to_csv('./image_data.csv', sep=';', index=False)"
   ]
  },
  {
   "cell_type": "code",
   "execution_count": null,
   "metadata": {},
   "outputs": [],
   "source": []
  }
 ],
 "metadata": {
  "kernelspec": {
   "display_name": "venv39",
   "language": "python",
   "name": "python3"
  },
  "language_info": {
   "codemirror_mode": {
    "name": "ipython",
    "version": 3
   },
   "file_extension": ".py",
   "mimetype": "text/x-python",
   "name": "python",
   "nbconvert_exporter": "python",
   "pygments_lexer": "ipython3",
   "version": "3.9.15 (main, Nov 24 2022, 14:39:17) [MSC v.1916 64 bit (AMD64)]"
  },
  "orig_nbformat": 4,
  "vscode": {
   "interpreter": {
    "hash": "81b7fd3f46beaf1d3cf69701dbdf5a33718f0a79c66d7a5b7f68b9bdf8c0baf5"
   }
  }
 },
 "nbformat": 4,
 "nbformat_minor": 2
}
